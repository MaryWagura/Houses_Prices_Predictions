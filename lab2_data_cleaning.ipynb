{
 "cells": [
  {
   "cell_type": "code",
   "id": "initial_id",
   "metadata": {
    "collapsed": true,
    "ExecuteTime": {
     "end_time": "2025-09-17T11:43:13.724249Z",
     "start_time": "2025-09-17T11:43:13.061576Z"
    }
   },
   "source": [
    "#QUESTION 1 & 2\n",
    "import pandas as pd\n",
    "import numpy as np\n",
    "\n",
    "# Load the dataset\n",
    "df = pd.read_csv('housing/housing.csv')\n",
    "\n",
    "# Check for missing values\n",
    "print(\"Missing values per column:\")\n",
    "print(df.isnull().sum())\n",
    "\n",
    "# Handle missing values in total_bedrooms\n",
    "# Since total_bedrooms is correlated with households and total_rooms,\n",
    "# we can use median imputation by grouping similar properties\n",
    "\n",
    "# Calculate median bedrooms per household for each ocean_proximity category\n",
    "bedroom_median_by_location = df.groupby('ocean_proximity')['total_bedrooms'].median()\n",
    "\n",
    "# Impute missing values\n",
    "df['total_bedrooms'] = df.apply(\n",
    "    lambda row: bedroom_median_by_location[row['ocean_proximity']]\n",
    "    if pd.isna(row['total_bedrooms'])\n",
    "    else row['total_bedrooms'],\n",
    "    axis=1\n",
    ")\n",
    "\n",
    "# Verify no more missing values\n",
    "print(\"\\nMissing values after imputation:\")\n",
    "print(df.isnull().sum())\n",
    "\n",
    "# Save the cleaned dataset\n",
    "df.to_csv('housing/cleaned_housing_data.csv', index=False)\n",
    "print(\"\\nCleaned dataset saved as 'cleaned_housing_data.csv'\")\n",
    "# Alternative approach: Simple median imputation (if you prefer)\n",
    "# df['total_bedrooms'].fillna(df['total_bedrooms'].median(), inplace=True)"
   ],
   "outputs": [
    {
     "name": "stdout",
     "output_type": "stream",
     "text": [
      "Missing values per column:\n",
      "longitude               0\n",
      "latitude                0\n",
      "housing_median_age      0\n",
      "total_rooms             0\n",
      "total_bedrooms        207\n",
      "population              0\n",
      "households              0\n",
      "median_income           0\n",
      "median_house_value      0\n",
      "ocean_proximity         0\n",
      "dtype: int64\n",
      "\n",
      "Missing values after imputation:\n",
      "longitude             0\n",
      "latitude              0\n",
      "housing_median_age    0\n",
      "total_rooms           0\n",
      "total_bedrooms        0\n",
      "population            0\n",
      "households            0\n",
      "median_income         0\n",
      "median_house_value    0\n",
      "ocean_proximity       0\n",
      "dtype: int64\n",
      "\n",
      "Cleaned dataset saved as 'cleaned_housing_data.csv'\n"
     ]
    }
   ],
   "execution_count": 4
  },
  {
   "metadata": {
    "ExecuteTime": {
     "end_time": "2025-09-17T12:07:21.799055Z",
     "start_time": "2025-09-17T12:07:21.627184Z"
    }
   },
   "cell_type": "code",
   "source": [
    "#QUESTION 4, HANDLE THE NON-NUMERICAL FIELD\n",
    "from sklearn.preprocessing import OneHotEncoder\n",
    "import pandas as pd\n",
    "\n",
    "# One-hot encoding with pandas\n",
    "ohe_df = pd.get_dummies(df['ocean_proximity'], prefix='ocean')\n",
    "\n",
    "# Concatenate with original dataframe\n",
    "df_encoded = pd.concat([df.drop('ocean_proximity', axis=1), ohe_df], axis=1)\n",
    "\n",
    "print(\"One-Hot Encoding Results:\")\n",
    "print(ohe_df.head())\n",
    "print(f\"\\nNew columns: {list(ohe_df.columns)}\")"
   ],
   "id": "3b7a4ae6f261d697",
   "outputs": [
    {
     "name": "stdout",
     "output_type": "stream",
     "text": [
      "One-Hot Encoding Results:\n",
      "   ocean_<1H OCEAN  ocean_INLAND  ocean_ISLAND  ocean_NEAR BAY  \\\n",
      "0            False         False         False            True   \n",
      "1            False         False         False            True   \n",
      "2            False         False         False            True   \n",
      "3            False         False         False            True   \n",
      "4            False         False         False            True   \n",
      "\n",
      "   ocean_NEAR OCEAN  \n",
      "0             False  \n",
      "1             False  \n",
      "2             False  \n",
      "3             False  \n",
      "4             False  \n",
      "\n",
      "New columns: ['ocean_<1H OCEAN', 'ocean_INLAND', 'ocean_ISLAND', 'ocean_NEAR BAY', 'ocean_NEAR OCEAN']\n"
     ]
    }
   ],
   "execution_count": 5
  }
 ],
 "metadata": {
  "kernelspec": {
   "display_name": "Python 3",
   "language": "python",
   "name": "python3"
  },
  "language_info": {
   "codemirror_mode": {
    "name": "ipython",
    "version": 2
   },
   "file_extension": ".py",
   "mimetype": "text/x-python",
   "name": "python",
   "nbconvert_exporter": "python",
   "pygments_lexer": "ipython2",
   "version": "2.7.6"
  }
 },
 "nbformat": 4,
 "nbformat_minor": 5
}
