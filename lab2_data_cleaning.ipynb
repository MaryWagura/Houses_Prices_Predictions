{
 "cells": [
  {
   "cell_type": "code",
   "id": "initial_id",
   "metadata": {
    "collapsed": true,
    "ExecuteTime": {
     "end_time": "2025-09-17T11:43:13.724249Z",
     "start_time": "2025-09-17T11:43:13.061576Z"
    }
   },
   "source": [
    "#QUESTION 1 & 2\n",
    "import pandas as pd\n",
    "import numpy as np\n",
    "\n",
    "# Load the dataset\n",
    "df = pd.read_csv('housing/housing.csv')\n",
    "\n",
    "# Check for missing values\n",
    "print(\"Missing values per column:\")\n",
    "print(df.isnull().sum())\n",
    "\n",
    "# Handle missing values in total_bedrooms\n",
    "# Since total_bedrooms is correlated with households and total_rooms,\n",
    "# we can use median imputation by grouping similar properties\n",
    "\n",
    "# Calculate median bedrooms per household for each ocean_proximity category\n",
    "bedroom_median_by_location = df.groupby('ocean_proximity')['total_bedrooms'].median()\n",
    "\n",
    "# Impute missing values\n",
    "df['total_bedrooms'] = df.apply(\n",
    "    lambda row: bedroom_median_by_location[row['ocean_proximity']]\n",
    "    if pd.isna(row['total_bedrooms'])\n",
    "    else row['total_bedrooms'],\n",
    "    axis=1\n",
    ")\n",
    "\n",
    "# Verify no more missing values\n",
    "print(\"\\nMissing values after imputation:\")\n",
    "print(df.isnull().sum())\n",
    "\n",
    "# Save the cleaned dataset\n",
    "df.to_csv('housing/cleaned_housing_data.csv', index=False)\n",
    "print(\"\\nCleaned dataset saved as 'cleaned_housing_data.csv'\")\n",
    "# Alternative approach: Simple median imputation (if you prefer)\n",
    "# df['total_bedrooms'].fillna(df['total_bedrooms'].median(), inplace=True)"
   ],
   "outputs": [
    {
     "name": "stdout",
     "output_type": "stream",
     "text": [
      "Missing values per column:\n",
      "longitude               0\n",
      "latitude                0\n",
      "housing_median_age      0\n",
      "total_rooms             0\n",
      "total_bedrooms        207\n",
      "population              0\n",
      "households              0\n",
      "median_income           0\n",
      "median_house_value      0\n",
      "ocean_proximity         0\n",
      "dtype: int64\n",
      "\n",
      "Missing values after imputation:\n",
      "longitude             0\n",
      "latitude              0\n",
      "housing_median_age    0\n",
      "total_rooms           0\n",
      "total_bedrooms        0\n",
      "population            0\n",
      "households            0\n",
      "median_income         0\n",
      "median_house_value    0\n",
      "ocean_proximity       0\n",
      "dtype: int64\n",
      "\n",
      "Cleaned dataset saved as 'cleaned_housing_data.csv'\n"
     ]
    }
   ],
   "execution_count": 4
  }
 ],
 "metadata": {
  "kernelspec": {
   "display_name": "Python 3",
   "language": "python",
   "name": "python3"
  },
  "language_info": {
   "codemirror_mode": {
    "name": "ipython",
    "version": 2
   },
   "file_extension": ".py",
   "mimetype": "text/x-python",
   "name": "python",
   "nbconvert_exporter": "python",
   "pygments_lexer": "ipython2",
   "version": "2.7.6"
  }
 },
 "nbformat": 4,
 "nbformat_minor": 5
}
