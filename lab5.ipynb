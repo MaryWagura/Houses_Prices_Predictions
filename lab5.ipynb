{
 "cells": [
  {
   "cell_type": "code",
   "execution_count": 1,
   "id": "a7aab7b9",
   "metadata": {},
   "outputs": [],
   "source": [
    "import numpy as np\n",
    "import pandas as pd\n",
    "import matplotlib.pyplot as plt\n",
    "import seaborn as sns\n",
    "import time\n",
    "\n",
    "from sklearn import datasets\n",
    "from sklearn.model_selection import train_test_split, GridSearchCV\n",
    "from sklearn.preprocessing import StandardScaler\n",
    "from sklearn.metrics import (\n",
    "    classification_report, confusion_matrix,\n",
    "    accuracy_score, precision_score, recall_score, f1_score\n",
    ")\n",
    "from sklearn.svm import SVC\n"
   ]
  },
  {
   "cell_type": "code",
   "execution_count": 2,
   "id": "3564fa21",
   "metadata": {},
   "outputs": [
    {
     "name": "stdout",
     "output_type": "stream",
     "text": [
      "Training data shape: (16000, 784)\n",
      "Test data shape: (4000, 784)\n"
     ]
    }
   ],
   "source": [
    "# Load MNIST dataset\n",
    "mnist = datasets.fetch_openml('mnist_784', version=1)\n",
    "X, y = mnist.data, mnist.target.astype(int)\n",
    "\n",
    "# ===== Reduce dataset to 20,000 samples =====\n",
    "X = X[:20000]\n",
    "y = y[:20000]\n",
    "\n",
    "# Split into 80% training and 20% testing\n",
    "X_train, X_test, y_train, y_test = train_test_split(\n",
    "    X, y, test_size=0.2, random_state=42, stratify=y\n",
    ")\n",
    "\n",
    "# Standardize features (important for SVM)\n",
    "scaler = StandardScaler()\n",
    "X_train = scaler.fit_transform(X_train)\n",
    "X_test = scaler.transform(X_test)\n",
    "\n",
    "print(\"Training data shape:\", X_train.shape)\n",
    "print(\"Test data shape:\", X_test.shape)\n"
   ]
  },
  {
   "cell_type": "code",
   "execution_count": 3,
   "id": "85e53433",
   "metadata": {},
   "outputs": [
    {
     "name": "stdout",
     "output_type": "stream",
     "text": [
      "Fitting 3 folds for each of 3 candidates, totalling 9 fits\n",
      "Best Parameters (Linear): {'C': 0.1}\n",
      "Accuracy: 0.9155\n",
      "Precision: 0.9150979222217307\n",
      "Recall: 0.9143345141695992\n",
      "F1 Score: 0.9143622853870964\n",
      "Training Time: 153.82 seconds\n"
     ]
    }
   ],
   "source": [
    "# SVM with Linear Kernel\n",
    "param_grid_linear = {'C': [0.1, 1, 10]}\n",
    "\n",
    "svm_linear = GridSearchCV(SVC(kernel='linear'), param_grid_linear, cv=3, n_jobs=-1, verbose=2)\n",
    "\n",
    "start_linear = time.time()\n",
    "svm_linear.fit(X_train, y_train)\n",
    "end_linear = time.time()\n",
    "\n",
    "y_pred_linear = svm_linear.predict(X_test)\n",
    "\n",
    "print(\"Best Parameters (Linear):\", svm_linear.best_params_)\n",
    "print(\"Accuracy:\", accuracy_score(y_test, y_pred_linear))\n",
    "print(\"Precision:\", precision_score(y_test, y_pred_linear, average='macro'))\n",
    "print(\"Recall:\", recall_score(y_test, y_pred_linear, average='macro'))\n",
    "print(\"F1 Score:\", f1_score(y_test, y_pred_linear, average='macro'))\n",
    "print(\"Training Time: %.2f seconds\" % (end_linear - start_linear))\n"
   ]
  },
  {
   "cell_type": "code",
   "execution_count": 4,
   "id": "98baa867",
   "metadata": {},
   "outputs": [
    {
     "name": "stdout",
     "output_type": "stream",
     "text": [
      "Fitting 3 folds for each of 8 candidates, totalling 24 fits\n",
      "Best Parameters (Polynomial): {'C': 1, 'coef0': 1.0, 'degree': 3}\n",
      "Accuracy: 0.96075\n",
      "Precision: 0.9607384122062769\n",
      "Recall: 0.960455845046768\n",
      "F1 Score: 0.9604925682982547\n",
      "Training Time: 1145.99 seconds\n"
     ]
    }
   ],
   "source": [
    "# SVM with Polynomial Kernel\n",
    "param_grid_poly = {\n",
    "    'C': [0.1, 1],\n",
    "    'degree': [2, 3],\n",
    "    'coef0': [0.0, 1.0]\n",
    "}\n",
    "\n",
    "svm_poly = GridSearchCV(SVC(kernel='poly'), param_grid_poly, cv=3, n_jobs=-1, verbose=2)\n",
    "\n",
    "start_poly = time.time()\n",
    "svm_poly.fit(X_train, y_train)\n",
    "end_poly = time.time()\n",
    "\n",
    "y_pred_poly = svm_poly.predict(X_test)\n",
    "\n",
    "print(\"Best Parameters (Polynomial):\", svm_poly.best_params_)\n",
    "print(\"Accuracy:\", accuracy_score(y_test, y_pred_poly))\n",
    "print(\"Precision:\", precision_score(y_test, y_pred_poly, average='macro'))\n",
    "print(\"Recall:\", recall_score(y_test, y_pred_poly, average='macro'))\n",
    "print(\"F1 Score:\", f1_score(y_test, y_pred_poly, average='macro'))\n",
    "print(\"Training Time: %.2f seconds\" % (end_poly - start_poly))\n"
   ]
  },
  {
   "cell_type": "code",
   "execution_count": 5,
   "id": "2f7ab064",
   "metadata": {},
   "outputs": [
    {
     "name": "stdout",
     "output_type": "stream",
     "text": [
      "Fitting 3 folds for each of 9 candidates, totalling 27 fits\n",
      "Best Parameters (RBF): {'C': 10, 'gamma': 0.001}\n",
      "Accuracy: 0.952\n",
      "Precision: 0.9522223161739289\n",
      "Recall: 0.9516203096416568\n",
      "F1 Score: 0.9518093000993678\n",
      "Training Time: 1771.21 seconds\n"
     ]
    }
   ],
   "source": [
    "# SVM with RBF Kernel\n",
    "param_grid_rbf = {\n",
    "    'C': [0.1, 1, 10],\n",
    "    'gamma': ['scale', 0.01, 0.001]\n",
    "}\n",
    "\n",
    "svm_rbf = GridSearchCV(SVC(kernel='rbf'), param_grid_rbf, cv=3, n_jobs=-1, verbose=2)\n",
    "\n",
    "start_rbf = time.time()\n",
    "svm_rbf.fit(X_train, y_train)\n",
    "end_rbf = time.time()\n",
    "\n",
    "y_pred_rbf = svm_rbf.predict(X_test)\n",
    "\n",
    "print(\"Best Parameters (RBF):\", svm_rbf.best_params_)\n",
    "print(\"Accuracy:\", accuracy_score(y_test, y_pred_rbf))\n",
    "print(\"Precision:\", precision_score(y_test, y_pred_rbf, average='macro'))\n",
    "print(\"Recall:\", recall_score(y_test, y_pred_rbf, average='macro'))\n",
    "print(\"F1 Score:\", f1_score(y_test, y_pred_rbf, average='macro'))\n",
    "print(\"Training Time: %.2f seconds\" % (end_rbf - start_rbf))\n"
   ]
  },
  {
   "cell_type": "code",
   "execution_count": 6,
   "id": "fe331869",
   "metadata": {},
   "outputs": [
    {
     "name": "stdout",
     "output_type": "stream",
     "text": [
      "Previous Classifier Results:\n"
     ]
    },
    {
     "data": {
      "text/html": [
       "<div>\n",
       "<style scoped>\n",
       "    .dataframe tbody tr th:only-of-type {\n",
       "        vertical-align: middle;\n",
       "    }\n",
       "\n",
       "    .dataframe tbody tr th {\n",
       "        vertical-align: top;\n",
       "    }\n",
       "\n",
       "    .dataframe thead th {\n",
       "        text-align: right;\n",
       "    }\n",
       "</style>\n",
       "<table border=\"1\" class=\"dataframe\">\n",
       "  <thead>\n",
       "    <tr style=\"text-align: right;\">\n",
       "      <th></th>\n",
       "      <th>Model</th>\n",
       "      <th>Accuracy</th>\n",
       "      <th>Precision</th>\n",
       "      <th>Recall</th>\n",
       "      <th>F1 Score</th>\n",
       "      <th>Training Time (s)</th>\n",
       "    </tr>\n",
       "  </thead>\n",
       "  <tbody>\n",
       "    <tr>\n",
       "      <th>0</th>\n",
       "      <td>KNN (distance, manhattan, k=3)</td>\n",
       "      <td>0.9717</td>\n",
       "      <td>None</td>\n",
       "      <td>None</td>\n",
       "      <td>None</td>\n",
       "      <td>None</td>\n",
       "    </tr>\n",
       "    <tr>\n",
       "      <th>1</th>\n",
       "      <td>Random Forest</td>\n",
       "      <td>0.9674</td>\n",
       "      <td>None</td>\n",
       "      <td>None</td>\n",
       "      <td>None</td>\n",
       "      <td>None</td>\n",
       "    </tr>\n",
       "    <tr>\n",
       "      <th>2</th>\n",
       "      <td>SGD</td>\n",
       "      <td>0.9139</td>\n",
       "      <td>None</td>\n",
       "      <td>None</td>\n",
       "      <td>None</td>\n",
       "      <td>None</td>\n",
       "    </tr>\n",
       "  </tbody>\n",
       "</table>\n",
       "</div>"
      ],
      "text/plain": [
       "                            Model  Accuracy Precision Recall F1 Score  \\\n",
       "0  KNN (distance, manhattan, k=3)    0.9717      None   None     None   \n",
       "1                   Random Forest    0.9674      None   None     None   \n",
       "2                             SGD    0.9139      None   None     None   \n",
       "\n",
       "  Training Time (s)  \n",
       "0              None  \n",
       "1              None  \n",
       "2              None  "
      ]
     },
     "execution_count": 6,
     "metadata": {},
     "output_type": "execute_result"
    }
   ],
   "source": [
    "# Manually input previous classifier results for comparison\n",
    "previous_results = pd.DataFrame([\n",
    "    ['KNN (distance, manhattan, k=3)', 0.9717, None, None, None, None],\n",
    "    ['Random Forest', 0.9674, None, None, None, None],\n",
    "    ['SGD', 0.9139, None, None, None, None]\n",
    "], columns=['Model', 'Accuracy', 'Precision', 'Recall', 'F1 Score', 'Training Time (s)'])\n",
    "\n",
    "print(\"Previous Classifier Results:\")\n",
    "previous_results\n"
   ]
  },
  {
   "cell_type": "code",
   "execution_count": 7,
   "id": "c74a19fe",
   "metadata": {},
   "outputs": [
    {
     "name": "stdout",
     "output_type": "stream",
     "text": [
      "Final Comparison of Classifiers on MNIST:\n"
     ]
    },
    {
     "name": "stderr",
     "output_type": "stream",
     "text": [
      "C:\\Users\\user\\AppData\\Local\\Temp\\ipykernel_14232\\3380373528.py:24: FutureWarning: The behavior of DataFrame concatenation with empty or all-NA entries is deprecated. In a future version, this will no longer exclude empty or all-NA columns when determining the result dtypes. To retain the old behavior, exclude the relevant entries before the concat operation.\n",
      "  comparison = pd.concat([svm_results, previous_results], ignore_index=True)\n"
     ]
    },
    {
     "data": {
      "text/html": [
       "<div>\n",
       "<style scoped>\n",
       "    .dataframe tbody tr th:only-of-type {\n",
       "        vertical-align: middle;\n",
       "    }\n",
       "\n",
       "    .dataframe tbody tr th {\n",
       "        vertical-align: top;\n",
       "    }\n",
       "\n",
       "    .dataframe thead th {\n",
       "        text-align: right;\n",
       "    }\n",
       "</style>\n",
       "<table border=\"1\" class=\"dataframe\">\n",
       "  <thead>\n",
       "    <tr style=\"text-align: right;\">\n",
       "      <th></th>\n",
       "      <th>Model</th>\n",
       "      <th>Accuracy</th>\n",
       "      <th>Precision</th>\n",
       "      <th>Recall</th>\n",
       "      <th>F1 Score</th>\n",
       "      <th>Training Time (s)</th>\n",
       "    </tr>\n",
       "  </thead>\n",
       "  <tbody>\n",
       "    <tr>\n",
       "      <th>0</th>\n",
       "      <td>KNN (distance, manhattan, k=3)</td>\n",
       "      <td>0.97170</td>\n",
       "      <td>NaN</td>\n",
       "      <td>NaN</td>\n",
       "      <td>NaN</td>\n",
       "      <td>NaN</td>\n",
       "    </tr>\n",
       "    <tr>\n",
       "      <th>1</th>\n",
       "      <td>Random Forest</td>\n",
       "      <td>0.96740</td>\n",
       "      <td>NaN</td>\n",
       "      <td>NaN</td>\n",
       "      <td>NaN</td>\n",
       "      <td>NaN</td>\n",
       "    </tr>\n",
       "    <tr>\n",
       "      <th>2</th>\n",
       "      <td>SVM (Polynomial)</td>\n",
       "      <td>0.96075</td>\n",
       "      <td>0.960738</td>\n",
       "      <td>0.960456</td>\n",
       "      <td>0.960493</td>\n",
       "      <td>1145.99</td>\n",
       "    </tr>\n",
       "    <tr>\n",
       "      <th>3</th>\n",
       "      <td>SVM (RBF)</td>\n",
       "      <td>0.95200</td>\n",
       "      <td>0.952222</td>\n",
       "      <td>0.951620</td>\n",
       "      <td>0.951809</td>\n",
       "      <td>1771.21</td>\n",
       "    </tr>\n",
       "    <tr>\n",
       "      <th>4</th>\n",
       "      <td>SVM (Linear)</td>\n",
       "      <td>0.91550</td>\n",
       "      <td>0.915098</td>\n",
       "      <td>0.914335</td>\n",
       "      <td>0.914362</td>\n",
       "      <td>153.82</td>\n",
       "    </tr>\n",
       "    <tr>\n",
       "      <th>5</th>\n",
       "      <td>SGD</td>\n",
       "      <td>0.91390</td>\n",
       "      <td>NaN</td>\n",
       "      <td>NaN</td>\n",
       "      <td>NaN</td>\n",
       "      <td>NaN</td>\n",
       "    </tr>\n",
       "  </tbody>\n",
       "</table>\n",
       "</div>"
      ],
      "text/plain": [
       "                            Model  Accuracy  Precision    Recall  F1 Score  \\\n",
       "0  KNN (distance, manhattan, k=3)   0.97170        NaN       NaN       NaN   \n",
       "1                   Random Forest   0.96740        NaN       NaN       NaN   \n",
       "2                SVM (Polynomial)   0.96075   0.960738  0.960456  0.960493   \n",
       "3                       SVM (RBF)   0.95200   0.952222  0.951620  0.951809   \n",
       "4                    SVM (Linear)   0.91550   0.915098  0.914335  0.914362   \n",
       "5                             SGD   0.91390        NaN       NaN       NaN   \n",
       "\n",
       "   Training Time (s)  \n",
       "0                NaN  \n",
       "1                NaN  \n",
       "2            1145.99  \n",
       "3            1771.21  \n",
       "4             153.82  \n",
       "5                NaN  "
      ]
     },
     "execution_count": 7,
     "metadata": {},
     "output_type": "execute_result"
    }
   ],
   "source": [
    "# Combine SVM and previous classifiers\n",
    "\n",
    "svm_results = pd.DataFrame([\n",
    "    ['SVM (Linear)', accuracy_score(y_test, y_pred_linear),\n",
    "     precision_score(y_test, y_pred_linear, average='macro'),\n",
    "     recall_score(y_test, y_pred_linear, average='macro'),\n",
    "     f1_score(y_test, y_pred_linear, average='macro'),\n",
    "     round(end_linear - start_linear, 2)],\n",
    "\n",
    "    ['SVM (Polynomial)', accuracy_score(y_test, y_pred_poly),\n",
    "     precision_score(y_test, y_pred_poly, average='macro'),\n",
    "     recall_score(y_test, y_pred_poly, average='macro'),\n",
    "     f1_score(y_test, y_pred_poly, average='macro'),\n",
    "     round(end_poly - start_poly, 2)],\n",
    "\n",
    "    ['SVM (RBF)', accuracy_score(y_test, y_pred_rbf),\n",
    "     precision_score(y_test, y_pred_rbf, average='macro'),\n",
    "     recall_score(y_test, y_pred_rbf, average='macro'),\n",
    "     f1_score(y_test, y_pred_rbf, average='macro'),\n",
    "     round(end_rbf - start_rbf, 2)]\n",
    "], columns=['Model', 'Accuracy', 'Precision', 'Recall', 'F1 Score', 'Training Time (s)'])\n",
    "\n",
    "# Merge \n",
    "comparison = pd.concat([svm_results, previous_results], ignore_index=True)\n",
    "comparison_sorted = comparison.sort_values(by='Accuracy', ascending=False).reset_index(drop=True)\n",
    "\n",
    "print(\"Final Comparison of Classifiers on MNIST:\")\n",
    "comparison_sorted\n"
   ]
  },
  {
   "cell_type": "code",
   "execution_count": 8,
   "id": "96195121",
   "metadata": {},
   "outputs": [
    {
     "data": {
      "image/png": "[encoded data removed]",
      "text/plain": [
       "<Figure size 1000x500 with 1 Axes>"
      ]
     },
     "metadata": {},
     "output_type": "display_data"
    }
   ],
   "source": [
    "plt.figure(figsize=(10,5))\n",
    "sns.barplot(x='Model', y='Accuracy', data=comparison_sorted)\n",
    "plt.title(\"Classifier Accuracy Comparison on MNIST\")\n",
    "plt.ylabel(\"Accuracy\")\n",
    "plt.xticks(rotation=30)\n",
    "plt.show()\n"
   ]
  }
 ],
 "metadata": {
  "kernelspec": {
   "display_name": "base",
   "language": "python",
   "name": "python3"
  },
  "language_info": {
   "codemirror_mode": {
    "name": "ipython",
    "version": 3
   },
   "file_extension": ".py",
   "mimetype": "text/x-python",
   "name": "python",
   "nbconvert_exporter": "python",
   "pygments_lexer": "ipython3",
   "version": "3.13.5"
  }
 },
 "nbformat": 4,
 "nbformat_minor": 5
}
